{
 "cells": [
  {
   "cell_type": "code",
   "execution_count": 8,
   "metadata": {},
   "outputs": [],
   "source": [
    "with open('./Gundam.raw', 'rb') as file:\n",
    "    image = bytearray(file.read())"
   ]
  },
  {
   "cell_type": "code",
   "execution_count": 9,
   "metadata": {},
   "outputs": [],
   "source": [
    "list = []\n",
    "for i in range(360000):\n",
    "    list.append(image[i])"
   ]
  },
  {
   "cell_type": "code",
   "execution_count": 10,
   "metadata": {},
   "outputs": [],
   "source": [
    "#8-clustering\n",
    "a=10\n",
    "b=40\n",
    "c=70\n",
    "d=100\n",
    "e=130\n",
    "f=160\n",
    "g=190\n",
    "h=220\n",
    "tempa=0\n",
    "tempb=0\n",
    "tempc=0\n",
    "tempd=0\n",
    "tempe=0\n",
    "tempf=0\n",
    "tempg=0\n",
    "temph=0\n",
    "while(abs(a-tempa)>0.1 and abs(a-tempb)>0.1 and abs(c-tempc)>0.1 and abs(d-tempd)>0.1 and abs(e-tempe)>0.1 and abs(f-tempf)>0.1 and abs(g-tempg)>0.1 and abs(h-temph)>0.1):\n",
    "    tempa = a\n",
    "    tempb = b\n",
    "    tempc = c\n",
    "    tempd = d\n",
    "    tempe = e\n",
    "    tempf = f\n",
    "    tempg = g\n",
    "    temph = h\n",
    "    a1=0\n",
    "    b1=0\n",
    "    c1=0\n",
    "    d1=0\n",
    "    e1=0\n",
    "    f1=0\n",
    "    g1=0\n",
    "    h1=0\n",
    "    counta=0\n",
    "    countb=0\n",
    "    countc=0\n",
    "    countd=0\n",
    "    counte=0\n",
    "    countf=0\n",
    "    countg=0\n",
    "    counth=0\n",
    "    for i in range(360000):\n",
    "        temp=list[i]\n",
    "        dist=[]\n",
    "        dist.append(abs(temp-a))\n",
    "        dist.append(abs(temp-b))\n",
    "        dist.append(abs(temp-c))\n",
    "        dist.append(abs(temp-d))\n",
    "        dist.append(abs(temp-e))\n",
    "        dist.append(abs(temp-f))\n",
    "        dist.append(abs(temp-g))\n",
    "        dist.append(abs(temp-h))\n",
    "        k = min(dist)\n",
    "        if k==dist[0]:\n",
    "            a1+=list[i]\n",
    "            counta+=1\n",
    "        elif k==dist[1]:\n",
    "            b1+=list[i]\n",
    "            countb+=1\n",
    "        elif k==dist[2]:\n",
    "            c1+=list[i]\n",
    "            countc+=1\n",
    "        elif k==dist[3]:\n",
    "            d1+=list[i]\n",
    "            countd+=1\n",
    "        elif k==dist[4]:\n",
    "            e1+=list[i]\n",
    "            counte+=1  \n",
    "        elif k==dist[5]:\n",
    "            f1+=list[i]\n",
    "            countf+=1\n",
    "        elif k==dist[6]:\n",
    "            g1+=list[i]\n",
    "            countg+=1\n",
    "        else:\n",
    "            h1+=list[i]\n",
    "            counth+=1\n",
    " \n",
    "    a = a1/counta\n",
    "    b = b1/countb\n",
    "    c = c1/countc\n",
    "    d = d1/countd\n",
    "    e = e1/counte\n",
    "    f = f1/countf\n",
    "    g = g1/countg\n",
    "    h = h1/counth\n",
    "    "
   ]
  },
  {
   "cell_type": "code",
   "execution_count": 11,
   "metadata": {},
   "outputs": [
    {
     "name": "stdout",
     "output_type": "stream",
     "text": [
      "18.032643032643033\n",
      "42.53395129202921\n",
      "68.79763849924468\n",
      "96.16660222062642\n",
      "134.11649893260142\n",
      "168.06400520338923\n",
      "190.39758301183764\n",
      "207.21589703087594\n"
     ]
    },
    {
     "data": {
      "text/plain": [
       "(None, None, None, None, None, None, None, None)"
      ]
     },
     "execution_count": 11,
     "metadata": {},
     "output_type": "execute_result"
    }
   ],
   "source": [
    "print(a),print(b),print(c),print(d), print(e),print(f),print(g),print(h)"
   ]
  },
  {
   "cell_type": "code",
   "execution_count": 12,
   "metadata": {},
   "outputs": [],
   "source": [
    "newlist=[]\n",
    "for i in range(360000):\n",
    "    templist=[]\n",
    "    templist.append(abs(list[i]-a))\n",
    "    templist.append(abs(list[i]-b))\n",
    "    templist.append(abs(list[i]-c))\n",
    "    templist.append(abs(list[i]-d))\n",
    "    templist.append(abs(list[i]-e))\n",
    "    templist.append(abs(list[i]-f))\n",
    "    templist.append(abs(list[i]-g))\n",
    "    templist.append(abs(list[i]-h))\n",
    "    smalltemp = min(templist)\n",
    "    if templist[0]==smalltemp:\n",
    "        newlist.append(int(a))\n",
    "    elif templist[1]==smalltemp:       \n",
    "        newlist.append(int(b))\n",
    "    elif templist[2]==smalltemp:\n",
    "        newlist.append(int(c))\n",
    "    elif templist[3]==smalltemp:       \n",
    "        newlist.append(int(d))\n",
    "    elif templist[4]==smalltemp:\n",
    "        newlist.append(int(e))\n",
    "    elif templist[5]==smalltemp:       \n",
    "        newlist.append(int(f))\n",
    "    elif templist[6]==smalltemp:\n",
    "        newlist.append(int(g))\n",
    "    else:\n",
    "        newlist.append(int(h))"
   ]
  },
  {
   "cell_type": "code",
   "execution_count": 13,
   "metadata": {},
   "outputs": [],
   "source": [
    "newlist = bytearray(newlist)"
   ]
  },
  {
   "cell_type": "code",
   "execution_count": 14,
   "metadata": {},
   "outputs": [],
   "source": [
    "with open('Gundam8.raw', 'wb') as f:\n",
    "    f.write(newlist)"
   ]
  },
  {
   "cell_type": "code",
   "execution_count": null,
   "metadata": {},
   "outputs": [],
   "source": []
  },
  {
   "cell_type": "code",
   "execution_count": null,
   "metadata": {},
   "outputs": [],
   "source": []
  }
 ],
 "metadata": {
  "kernelspec": {
   "display_name": "Python 3",
   "language": "python",
   "name": "python3"
  },
  "language_info": {
   "codemirror_mode": {
    "name": "ipython",
    "version": 3
   },
   "file_extension": ".py",
   "mimetype": "text/x-python",
   "name": "python",
   "nbconvert_exporter": "python",
   "pygments_lexer": "ipython3",
   "version": "3.8.3"
  }
 },
 "nbformat": 4,
 "nbformat_minor": 4
}
