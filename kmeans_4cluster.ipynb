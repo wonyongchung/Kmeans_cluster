{
 "cells": [
  {
   "cell_type": "code",
   "execution_count": 1,
   "metadata": {},
   "outputs": [],
   "source": [
    "with open('./Gundam.raw', 'rb') as file:\n",
    "    image = bytearray(file.read())"
   ]
  },
  {
   "cell_type": "code",
   "execution_count": 2,
   "metadata": {},
   "outputs": [],
   "source": [
    "list = []\n",
    "for i in range(360000):\n",
    "    list.append(image[i])"
   ]
  },
  {
   "cell_type": "code",
   "execution_count": 3,
   "metadata": {},
   "outputs": [
    {
     "name": "stdout",
     "output_type": "stream",
     "text": [
      "4361330\n",
      "3819710.20792971\n"
     ]
    }
   ],
   "source": [
    "#4-clustering\n",
    "a=10\n",
    "b=60\n",
    "c=150\n",
    "d=200\n",
    "tempa=0\n",
    "tempb=0\n",
    "tempc=0\n",
    "tempd=0\n",
    "while(abs(a-tempa)>0.1 and abs(a-tempb)>0.1 and abs(c-tempc)>0.1 and abs(d-tempd)>0.1):\n",
    "    tempa = a\n",
    "    tempb = b\n",
    "    tempc = c\n",
    "    tempd = d\n",
    "    a1=0\n",
    "    b1=0\n",
    "    c1=0\n",
    "    d1=0\n",
    "    counta=0\n",
    "    countb=0\n",
    "    countc=0\n",
    "    countd=0\n",
    "    cost=[]\n",
    "    for i in range(360000):\n",
    "        temp=list[i]\n",
    "        dist=[]\n",
    "        dist.append(abs(temp-a))\n",
    "        dist.append(abs(temp-b))\n",
    "        dist.append(abs(temp-c))\n",
    "        dist.append(abs(temp-d))\n",
    "        k = min(dist)\n",
    "        if k==dist[0]:\n",
    "            a1+=list[i]\n",
    "            counta+=1\n",
    "            cost.append(dist[0])\n",
    "        elif k==dist[1]:\n",
    "            b1+=list[i]\n",
    "            countb+=1\n",
    "            cost.append(dist[1])\n",
    "        elif k==dist[2]:\n",
    "            c1+=list[i]\n",
    "            countc+=1\n",
    "            cost.append(dist[2])\n",
    "        else:\n",
    "            d1+=list[i]\n",
    "            countd+=1\n",
    "            cost.append(dist[3])\n",
    "\n",
    "    a = a1/counta\n",
    "    b = b1/countb\n",
    "    c = c1/countc\n",
    "    d = d1/countd\n",
    "    print(sum(cost))\n",
    "    "
   ]
  },
  {
   "cell_type": "code",
   "execution_count": 11,
   "metadata": {},
   "outputs": [
    {
     "name": "stdout",
     "output_type": "stream",
     "text": [
      "27.171836675804357\n",
      "73.53184188622195\n",
      "157.1945745140389\n",
      "195.93523003544718\n"
     ]
    },
    {
     "data": {
      "text/plain": [
       "(None, None, None, None)"
      ]
     },
     "execution_count": 11,
     "metadata": {},
     "output_type": "execute_result"
    }
   ],
   "source": [
    "print(a),print(b),print(c),print(d)"
   ]
  },
  {
   "cell_type": "code",
   "execution_count": 12,
   "metadata": {},
   "outputs": [],
   "source": [
    "newlist=[]\n",
    "for i in range(360000):\n",
    "    templist=[]\n",
    "    templist.append(abs(list[i]-a))\n",
    "    templist.append(abs(list[i]-b))\n",
    "    templist.append(abs(list[i]-c))\n",
    "    templist.append(abs(list[i]-d))\n",
    "    smalltemp = min(templist)\n",
    "    if templist[0]==smalltemp:\n",
    "        newlist.append(int(a))\n",
    "    elif templist[1]==smalltemp:       \n",
    "        newlist.append(int(b))\n",
    "    elif templist[2]==smalltemp:\n",
    "        newlist.append(int(c))\n",
    "    else:\n",
    "        newlist.append(int(d))"
   ]
  },
  {
   "cell_type": "code",
   "execution_count": 13,
   "metadata": {},
   "outputs": [],
   "source": [
    "newlist = bytearray(newlist)"
   ]
  },
  {
   "cell_type": "code",
   "execution_count": 14,
   "metadata": {},
   "outputs": [],
   "source": [
    "with open('Gundam4.raw', 'wb') as f:\n",
    "    f.write(newlist)"
   ]
  },
  {
   "cell_type": "code",
   "execution_count": null,
   "metadata": {},
   "outputs": [],
   "source": []
  },
  {
   "cell_type": "code",
   "execution_count": null,
   "metadata": {},
   "outputs": [],
   "source": []
  }
 ],
 "metadata": {
  "kernelspec": {
   "display_name": "Python 3",
   "language": "python",
   "name": "python3"
  },
  "language_info": {
   "codemirror_mode": {
    "name": "ipython",
    "version": 3
   },
   "file_extension": ".py",
   "mimetype": "text/x-python",
   "name": "python",
   "nbconvert_exporter": "python",
   "pygments_lexer": "ipython3",
   "version": "3.8.3"
  }
 },
 "nbformat": 4,
 "nbformat_minor": 4
}
