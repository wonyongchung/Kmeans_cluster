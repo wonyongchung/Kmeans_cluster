{
 "cells": [
  {
   "cell_type": "code",
   "execution_count": 1,
   "metadata": {},
   "outputs": [],
   "source": [
    "with open('./Gundam.raw', 'rb') as file:\n",
    "    image = bytearray(file.read())"
   ]
  },
  {
   "cell_type": "code",
   "execution_count": 2,
   "metadata": {},
   "outputs": [],
   "source": [
    "list = []\n",
    "for i in range(360000):\n",
    "    list.append(image[i])"
   ]
  },
  {
   "cell_type": "code",
   "execution_count": 3,
   "metadata": {},
   "outputs": [
    {
     "name": "stdout",
     "output_type": "stream",
     "text": [
      "313386\n",
      "768536.1277517024\n",
      "115243.26728190707\n",
      "41693.83715013179\n",
      "2.4722505145291507e-06\n"
     ]
    }
   ],
   "source": [
    "#2-clustering\n",
    "a=10\n",
    "b=200\n",
    "tempa=0\n",
    "tempb=0\n",
    "while(abs(a-tempa)>0.1 and abs(a-tempb)>0.1):\n",
    "    tempa = a\n",
    "    tempb = b\n",
    "    a1=0\n",
    "    b1=0\n",
    "    counta=0\n",
    "    countb=0\n",
    "    cost=[]\n",
    "    for i in range(360000):\n",
    "        temp=list[i]\n",
    "        if abs(temp-a)<abs(temp-b):\n",
    "            a1+=list[i]\n",
    "            counta+=1\n",
    "            cost.append(temp-a)\n",
    "        else:\n",
    "            b1+=list[i]\n",
    "            countb+=1\n",
    "            cost.append(temp-b)\n",
    "    a = a1/counta\n",
    "    b = b1/countb\n",
    "    print(sum(cost))"
   ]
  },
  {
   "cell_type": "code",
   "execution_count": 4,
   "metadata": {},
   "outputs": [
    {
     "name": "stdout",
     "output_type": "stream",
     "text": [
      "61.47967989784911\n",
      "188.83175802700313\n"
     ]
    },
    {
     "data": {
      "text/plain": [
       "(None, None)"
      ]
     },
     "execution_count": 4,
     "metadata": {},
     "output_type": "execute_result"
    }
   ],
   "source": [
    "print(a),print(b)"
   ]
  },
  {
   "cell_type": "code",
   "execution_count": 5,
   "metadata": {},
   "outputs": [],
   "source": [
    "newlist=[]\n",
    "for i in range(360000):\n",
    "    if abs(list[i]-a)<abs(list[i]-b):\n",
    "        newlist.append(int(a))\n",
    "    else:\n",
    "        newlist.append(int(b))"
   ]
  },
  {
   "cell_type": "code",
   "execution_count": 6,
   "metadata": {},
   "outputs": [],
   "source": [
    "newlist = bytearray(newlist)"
   ]
  },
  {
   "cell_type": "code",
   "execution_count": 7,
   "metadata": {},
   "outputs": [],
   "source": [
    "with open('Gundam2.raw', 'wb') as f:\n",
    "    f.write(newlist)"
   ]
  },
  {
   "cell_type": "code",
   "execution_count": null,
   "metadata": {},
   "outputs": [],
   "source": []
  },
  {
   "cell_type": "code",
   "execution_count": null,
   "metadata": {},
   "outputs": [],
   "source": []
  }
 ],
 "metadata": {
  "kernelspec": {
   "display_name": "Python 3",
   "language": "python",
   "name": "python3"
  },
  "language_info": {
   "codemirror_mode": {
    "name": "ipython",
    "version": 3
   },
   "file_extension": ".py",
   "mimetype": "text/x-python",
   "name": "python",
   "nbconvert_exporter": "python",
   "pygments_lexer": "ipython3",
   "version": "3.8.3"
  }
 },
 "nbformat": 4,
 "nbformat_minor": 4
}
